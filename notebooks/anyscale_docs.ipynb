{
 "cells": [
  {
   "cell_type": "markdown",
   "metadata": {},
   "source": [
    "# Building RAG for Anyscale docs"
   ]
  },
  {
   "cell_type": "markdown",
   "metadata": {},
   "source": [
    "## Initialization"
   ]
  },
  {
   "cell_type": "code",
   "execution_count": null,
   "metadata": {},
   "outputs": [
    {
     "name": "stderr",
     "output_type": "stream",
     "text": [
      "/home/ray/anaconda3/lib/python3.12/site-packages/tqdm/auto.py:21: TqdmWarning: IProgress not found. Please update jupyter and ipywidgets. See https://ipywidgets.readthedocs.io/en/stable/user_install.html\n",
      "  from .autonotebook import tqdm as notebook_tqdm\n",
      "2024-08-28 23:50:59,483\tINFO util.py:154 -- Missing packages: ['ipywidgets']. Run `pip install -U ipywidgets`, then restart the notebook server for rich notebook output.\n"
     ]
    }
   ],
   "source": [
    "# Imports\n",
    "import os\n",
    "import ray\n",
    "import sys; sys.path.append(\"..\")\n",
    "import warnings; warnings.filterwarnings(\"ignore\")\n",
    "from dotenv import load_dotenv; load_dotenv()\n",
    "%load_ext autoreload\n",
    "%autoreload 2\n",
    "from rag.config import ROOT_DIR"
   ]
  },
  {
   "cell_type": "code",
   "execution_count": null,
   "metadata": {},
   "outputs": [
    {
     "name": "stderr",
     "output_type": "stream",
     "text": [
      "2024-08-28 23:50:59,900\tINFO worker.py:1598 -- Connecting to existing Ray cluster at address: 10.0.62.130:6379...\n",
      "2024-08-28 23:50:59,907\tINFO worker.py:1774 -- Connected to Ray cluster. View the dashboard at \u001b[1m\u001b[32mhttps://session-vig1su7dbnvzqbs3l1tw35fhk3.i.anyscaleuserdata-staging.com \u001b[39m\u001b[22m\n",
      "2024-08-28 23:51:00,077\tINFO packaging.py:530 -- Creating a file package for local directory '/home/ray/default/anyscale-ragbot/notebooks/..'.\n",
      "2024-08-28 23:51:00,220\tWARNING packaging.py:405 -- File /home/ray/default/anyscale-ragbot/notebooks/../.git/objects/pack/pack-88c54bd4d9738cc5e86387775a443a8effc795d5.pack is very large (21.61MiB). Consider adding this file to the 'excludes' list to skip uploading it: `ray.init(..., runtime_env={'excludes': ['/home/ray/default/anyscale-ragbot/notebooks/../.git/objects/pack/pack-88c54bd4d9738cc5e86387775a443a8effc795d5.pack']})`\n",
      "2024-08-28 23:51:00,313\tINFO packaging.py:358 -- Pushing file package 'gcs://_ray_pkg_959490b81f9c3a2e.zip' (68.41MiB) to Ray cluster...\n",
      "2024-08-28 23:51:01,135\tINFO packaging.py:371 -- Successfully pushed file package 'gcs://_ray_pkg_959490b81f9c3a2e.zip'.\n"
     ]
    },
    {
     "data": {
      "text/html": [
       "<div class=\"lm-Widget p-Widget lm-Panel p-Panel jp-Cell-outputWrapper\">\n",
       "    <div style=\"margin-left: 50px;display: flex;flex-direction: row;align-items: center\">\n",
       "        <div class=\"jp-RenderedHTMLCommon\" style=\"display: flex; flex-direction: row;\">\n",
       "  <svg viewBox=\"0 0 567 224\" fill=\"none\" xmlns=\"http://www.w3.org/2000/svg\" style=\"height: 3em;\">\n",
       "    <g clip-path=\"url(#clip0_4338_178347)\">\n",
       "        <path d=\"M341.29 165.561H355.29L330.13 129.051C345.63 123.991 354.21 112.051 354.21 94.2307C354.21 71.3707 338.72 58.1807 311.88 58.1807H271V165.561H283.27V131.661H311.8C314.25 131.661 316.71 131.501 319.01 131.351L341.25 165.561H341.29ZM283.29 119.851V70.0007H311.82C331.3 70.0007 342.34 78.2907 342.34 94.5507C342.34 111.271 331.34 119.861 311.82 119.861L283.29 119.851ZM451.4 138.411L463.4 165.561H476.74L428.74 58.1807H416L367.83 165.561H380.83L392.83 138.411H451.4ZM446.19 126.601H398L422 72.1407L446.24 126.601H446.19ZM526.11 128.741L566.91 58.1807H554.35L519.99 114.181L485.17 58.1807H472.44L514.01 129.181V165.541H526.13V128.741H526.11Z\" fill=\"var(--jp-ui-font-color0)\"/>\n",
       "        <path d=\"M82.35 104.44C84.0187 97.8827 87.8248 92.0678 93.1671 87.9146C98.5094 83.7614 105.083 81.5067 111.85 81.5067C118.617 81.5067 125.191 83.7614 130.533 87.9146C135.875 92.0678 139.681 97.8827 141.35 104.44H163.75C164.476 101.562 165.622 98.8057 167.15 96.2605L127.45 56.5605C121.071 60.3522 113.526 61.6823 106.235 60.3005C98.9443 58.9187 92.4094 54.9203 87.8602 49.0574C83.3109 43.1946 81.0609 35.8714 81.5332 28.4656C82.0056 21.0599 85.1679 14.0819 90.4252 8.8446C95.6824 3.60726 102.672 0.471508 110.08 0.0272655C117.487 -0.416977 124.802 1.86091 130.647 6.4324C136.493 11.0039 140.467 17.5539 141.821 24.8501C143.175 32.1463 141.816 39.6859 138 46.0505L177.69 85.7505C182.31 82.9877 187.58 81.4995 192.962 81.4375C198.345 81.3755 203.648 82.742 208.33 85.3976C213.012 88.0532 216.907 91.9029 219.616 96.5544C222.326 101.206 223.753 106.492 223.753 111.875C223.753 117.258 222.326 122.545 219.616 127.197C216.907 131.848 213.012 135.698 208.33 138.353C203.648 141.009 198.345 142.375 192.962 142.313C187.58 142.251 182.31 140.763 177.69 138L138 177.7C141.808 184.071 143.155 191.614 141.79 198.91C140.424 206.205 136.44 212.75 130.585 217.313C124.731 221.875 117.412 224.141 110.004 223.683C102.596 223.226 95.6103 220.077 90.3621 214.828C85.1139 209.58 81.9647 202.595 81.5072 195.187C81.0497 187.779 83.3154 180.459 87.878 174.605C92.4405 168.751 98.9853 164.766 106.281 163.401C113.576 162.035 121.119 163.383 127.49 167.19L167.19 127.49C165.664 124.941 164.518 122.182 163.79 119.3H141.39C139.721 125.858 135.915 131.673 130.573 135.826C125.231 139.98 118.657 142.234 111.89 142.234C105.123 142.234 98.5494 139.98 93.2071 135.826C87.8648 131.673 84.0587 125.858 82.39 119.3H60C58.1878 126.495 53.8086 132.78 47.6863 136.971C41.5641 141.163 34.1211 142.972 26.7579 142.059C19.3947 141.146 12.6191 137.574 7.70605 132.014C2.79302 126.454 0.0813599 119.29 0.0813599 111.87C0.0813599 104.451 2.79302 97.2871 7.70605 91.7272C12.6191 86.1673 19.3947 82.5947 26.7579 81.6817C34.1211 80.7686 41.5641 82.5781 47.6863 86.7696C53.8086 90.9611 58.1878 97.2456 60 104.44H82.35ZM100.86 204.32C103.407 206.868 106.759 208.453 110.345 208.806C113.93 209.159 117.527 208.258 120.522 206.256C123.517 204.254 125.725 201.276 126.771 197.828C127.816 194.38 127.633 190.677 126.253 187.349C124.874 184.021 122.383 181.274 119.205 179.577C116.027 177.88 112.359 177.337 108.826 178.042C105.293 178.746 102.113 180.654 99.8291 183.44C97.5451 186.226 96.2979 189.718 96.3 193.32C96.2985 195.364 96.7006 197.388 97.4831 199.275C98.2656 201.163 99.4132 202.877 100.86 204.32ZM204.32 122.88C206.868 120.333 208.453 116.981 208.806 113.396C209.159 109.811 208.258 106.214 206.256 103.219C204.254 100.223 201.275 98.0151 197.827 96.97C194.38 95.9249 190.676 96.1077 187.348 97.4873C184.02 98.8669 181.274 101.358 179.577 104.536C177.879 107.714 177.337 111.382 178.041 114.915C178.746 118.448 180.653 121.627 183.439 123.911C186.226 126.195 189.717 127.443 193.32 127.44C195.364 127.443 197.388 127.042 199.275 126.259C201.163 125.476 202.878 124.328 204.32 122.88ZM122.88 19.4205C120.333 16.8729 116.981 15.2876 113.395 14.9347C109.81 14.5817 106.213 15.483 103.218 17.4849C100.223 19.4868 98.0146 22.4654 96.9696 25.9131C95.9245 29.3608 96.1073 33.0642 97.4869 36.3922C98.8665 39.7202 101.358 42.4668 104.535 44.1639C107.713 45.861 111.381 46.4036 114.914 45.6992C118.447 44.9949 121.627 43.0871 123.911 40.301C126.195 37.515 127.442 34.0231 127.44 30.4205C127.44 28.3772 127.038 26.3539 126.255 24.4664C125.473 22.5788 124.326 20.8642 122.88 19.4205ZM19.42 100.86C16.8725 103.408 15.2872 106.76 14.9342 110.345C14.5813 113.93 15.4826 117.527 17.4844 120.522C19.4863 123.518 22.4649 125.726 25.9127 126.771C29.3604 127.816 33.0638 127.633 36.3918 126.254C39.7198 124.874 42.4664 122.383 44.1635 119.205C45.8606 116.027 46.4032 112.359 45.6988 108.826C44.9944 105.293 43.0866 102.114 40.3006 99.8296C37.5145 97.5455 34.0227 96.2983 30.42 96.3005C26.2938 96.3018 22.337 97.9421 19.42 100.86ZM100.86 100.86C98.3125 103.408 96.7272 106.76 96.3742 110.345C96.0213 113.93 96.9226 117.527 98.9244 120.522C100.926 123.518 103.905 125.726 107.353 126.771C110.8 127.816 114.504 127.633 117.832 126.254C121.16 124.874 123.906 122.383 125.604 119.205C127.301 116.027 127.843 112.359 127.139 108.826C126.434 105.293 124.527 102.114 121.741 99.8296C118.955 97.5455 115.463 96.2983 111.86 96.3005C109.817 96.299 107.793 96.701 105.905 97.4835C104.018 98.2661 102.303 99.4136 100.86 100.86Z\" fill=\"#00AEEF\"/>\n",
       "    </g>\n",
       "    <defs>\n",
       "        <clipPath id=\"clip0_4338_178347\">\n",
       "            <rect width=\"566.93\" height=\"223.75\" fill=\"white\"/>\n",
       "        </clipPath>\n",
       "    </defs>\n",
       "  </svg>\n",
       "</div>\n",
       "\n",
       "        <table class=\"jp-RenderedHTMLCommon\" style=\"border-collapse: collapse;color: var(--jp-ui-font-color1);font-size: var(--jp-ui-font-size1);\">\n",
       "    <tr>\n",
       "        <td style=\"text-align: left\"><b>Python version:</b></td>\n",
       "        <td style=\"text-align: left\"><b>3.12.2</b></td>\n",
       "    </tr>\n",
       "    <tr>\n",
       "        <td style=\"text-align: left\"><b>Ray version:</b></td>\n",
       "        <td style=\"text-align: left\"><b>2.35.0</b></td>\n",
       "    </tr>\n",
       "    <tr>\n",
       "    <td style=\"text-align: left\"><b>Dashboard:</b></td>\n",
       "    <td style=\"text-align: left\"><b><a href=\"http://session-vig1su7dbnvzqbs3l1tw35fhk3.i.anyscaleuserdata-staging.com\" target=\"_blank\">http://session-vig1su7dbnvzqbs3l1tw35fhk3.i.anyscaleuserdata-staging.com</a></b></td>\n",
       "</tr>\n",
       "\n",
       "</table>\n",
       "\n",
       "    </div>\n",
       "</div>\n"
      ],
      "text/plain": [
       "RayContext(dashboard_url='session-vig1su7dbnvzqbs3l1tw35fhk3.i.anyscaleuserdata-staging.com', python_version='3.12.2', ray_version='2.35.0', ray_commit='d2cb5cafa92c4ce89a101621f2b1b44cbf4cae68')"
      ]
     },
     "execution_count": null,
     "metadata": {},
     "output_type": "execute_result"
    },
    {
     "name": "stdout",
     "output_type": "stream",
     "text": [
      "\u001b[36m(autoscaler +15s)\u001b[0m Tip: use `ray status` to view detailed cluster status. To disable these messages, set RAY_SCHEDULER_EVENTS=0.\n",
      "\u001b[36m(autoscaler +15s)\u001b[0m [autoscaler] Cluster upscaled to {128 CPU, 2 GPU}.\n",
      "\u001b[36m(autoscaler +20m46s)\u001b[0m [autoscaler] Downscaling node i-0aa09ae6224139ae1 (node IP: 10.0.34.153) due to node idle termination.\n",
      "\u001b[36m(autoscaler +20m47s)\u001b[0m [autoscaler] Downscaling node i-023b8a2dd73eaf85b (node IP: 10.0.47.129) due to node idle termination.\n"
     ]
    }
   ],
   "source": [
    "# Start the Ray cluster, with relevant credentials; we're not using Anyscale Endpoints.\n",
    "\n",
    "ray.init(runtime_env={\n",
    "    \"env_vars\": {\n",
    "        \"OPENAI_API_BASE\": os.environ[\"OPENAI_API_BASE\"],\n",
    "        \"OPENAI_API_KEY\": os.environ[\"OPENAI_API_KEY\"], \n",
    "        \"DB_CONNECTION_STRING\": os.environ[\"DB_CONNECTION_STRING\"],\n",
    "    },\n",
    "    \"working_dir\": str(ROOT_DIR)\n",
    "})"
   ]
  },
  {
   "cell_type": "code",
   "execution_count": null,
   "metadata": {},
   "outputs": [],
   "source": [
    "# Only text-embedding-3-large dimension and gpt-4o context length relevant for now.\n",
    "from rag.config import EMBEDDING_DIMENSIONS, MAX_CONTEXT_LENGTHS"
   ]
  },
  {
   "cell_type": "markdown",
   "metadata": {},
   "source": [
    "## Data\n",
    "\n",
    "I've pre-loaded the data into `/mnt/shared_storage/emmy` for both Ray docs (`/mnt/shared_storage/emmy/docs.ray.io/en/master`) and Anyscale docs (`/mnt/shared_storage/emmy/docs.anyscale.com/docs`) respectively. So in this section, we'll clean and chunk the data."
   ]
  },
  {
   "cell_type": "code",
   "execution_count": null,
   "metadata": {},
   "outputs": [],
   "source": [
    "from pathlib import Path\n",
    "from rag.config import EFS_DIR\n",
    "\n",
    "ANYSCALE_DOCS_DIR = Path(EFS_DIR, \"docs.anyscale.com/docs\")\n",
    "ANYSCALE_DOCS_URL = \"https://docs.anyscale.com\""
   ]
  },
  {
   "cell_type": "code",
   "execution_count": null,
   "metadata": {},
   "outputs": [],
   "source": [
    "# Create a list of dictionaries, each containing the source and text\n",
    "data = []\n",
    "for path in ANYSCALE_DOCS_DIR.rglob(\"*.md\"):\n",
    "    if not path.is_dir():\n",
    "        with open(path, 'r', encoding='utf-8') as file:\n",
    "            text = file.read()\n",
    "        # Convert the file path to a URL, remove the '.md' extension\n",
    "        relative_path = path.relative_to(ANYSCALE_DOCS_DIR).with_suffix('')  # Remove the '.md'\n",
    "        source = f\"{ANYSCALE_DOCS_URL}/{relative_path.as_posix()}\"\n",
    "        data.append({\"source\": source, \"text\": text})"
   ]
  },
  {
   "cell_type": "code",
   "execution_count": null,
   "metadata": {},
   "outputs": [
    {
     "name": "stderr",
     "output_type": "stream",
     "text": [
      "2024-08-28 23:51:23,362\tINFO util.py:154 -- Missing packages: ['ipywidgets']. Run `pip install -U ipywidgets`, then restart the notebook server for rich notebook output.\n"
     ]
    }
   ],
   "source": [
    "anyscale_sections_ds = ray.data.from_items(data)"
   ]
  },
  {
   "cell_type": "markdown",
   "metadata": {},
   "source": [
    "## Chunking"
   ]
  },
  {
   "cell_type": "code",
   "execution_count": null,
   "metadata": {},
   "outputs": [],
   "source": [
    "from functools import partial\n",
    "from langchain.text_splitter import RecursiveCharacterTextSplitter\n",
    "from langchain_text_splitters import MarkdownHeaderTextSplitter"
   ]
  },
  {
   "cell_type": "code",
   "execution_count": null,
   "metadata": {},
   "outputs": [
    {
     "name": "stderr",
     "output_type": "stream",
     "text": [
      "2024-08-28 23:10:10,815\tINFO dataset.py:2409 -- Tip: Use `take_batch()` instead of `take() / show()` to return records in pandas or numpy batch format.\n",
      "2024-08-28 23:10:10,818\tINFO streaming_executor.py:108 -- Starting execution of Dataset. Full logs are in /tmp/ray/session_2024-08-28_16-37-38_889087_2268/logs/ray-data\n",
      "2024-08-28 23:10:10,819\tINFO streaming_executor.py:109 -- Execution plan of Dataset: InputDataBuffer[Input] -> LimitOperator[limit=1]\n",
      "Running 0: 0.00 row [00:00, ? row/s]"
     ]
    },
    {
     "name": "stderr",
     "output_type": "stream",
     "text": [
      "                                                                                      \n",
      "✔️  Dataset execution finished in 1.46 seconds: : 1.00 row [00:01, 1.47s/ row]          \n",
      "\n",
      "- limit=1: 0 active, 150 queued, [cpu: 0.0, objects: 7.0KB]: : 1.00 row [00:01, 1.47s/ row]\n"
     ]
    }
   ],
   "source": [
    "sample = anyscale_sections_ds.take(1)"
   ]
  },
  {
   "cell_type": "code",
   "execution_count": null,
   "metadata": {},
   "outputs": [
    {
     "data": {
      "text/plain": [
       "{'source': 'https://docs.anyscale.com/get-started',\n",
       " 'text': 'import Admonition from \\'@theme/Admonition\\';\\nimport Tabs from \\'@theme/Tabs\\';\\nimport TabItem from \\'@theme/TabItem\\';\\n\\n# Get started\\n\\n## 1. Join Anyscale\\n\\n- [Sign up](https://console.anyscale.com) for an Anyscale account at [`console.anyscale.com`](https://console.anyscale.com).\\n- Check your email for a magic link.\\n\\n## 2. Try it out in Anyscale\\'s cloud\\n\\nLaunch an example template in Anyscale\\'s fully hosted development environment to quickly learn the platform\\'s capabilities. Anyscale set up the compute resources for you, so you can get started right away with on-demand GPUs. \\n\\nChoose from [deploying](https://console.anyscale.com/v2/template-preview/endpoints_v2) and [fine-tuning](https://console.anyscale.com/v2/template-preview/finetuning_llms_v2) large language models, scaling [batch inference](https://console.anyscale.com/v2/template-preview/batch-llm), [serving Stable Diffusion](https://console.anyscale.com/v2/template-preview/serve-stable-diffusion-v2), and much more.\\n\\n![Anyscale UI](/img/get-started/oa-ui.png)\\n\\n## 3. Set up your environment\\n\\nTo programmatically interact with Anyscale outside the console and from your terminal, you need to install the [Anyscale CLI](./reference/index.md).\\n\\n<Tabs groupId=\"anyscale-cloud\">\\n    <TabItem value=\"aws\" label=\"AWS\" default>\\n        <p><b>Step 1: Install the Anyscale CLI and Python client package</b></p>\\n        <pre><code>pip install -U anyscale</code></pre>\\n        <p><b>Step 2: Authenticate the CLI</b></p>\\n        <p>To access Anyscale\\'s services, you need to obtain a token that verifies your identity. Running the following command fetches and updates the token in the local credential file `~/.anyscale/credentials.json`:</p>\\n        <pre><code>anyscale login</code></pre>\\n        <p>You can also manually generate your API token [through the console](https://console.anyscale.com/v2/api-keys), and set it in the [`ANYSCALE_CLI_TOKEN` environment variable](./resources/environment-variables.md).</p>\\n    </TabItem>\\n        <TabItem value=\"gcp\" label=\"GCP\">\\n        <p><b>Step 1: Install the Anyscale CLI and Python client package</b></p>\\n        <pre><code>pip install -U \"anyscale[gcp]\"</code></pre>\\n        <p><b>Step 2: Authenticate the CLI</b></p>\\n        <p>To access Anyscale\\'s services, you need to obtain a token that verifies your identity. Running the following command fetches and updates the token in the local credential file `~/.anyscale/credentials.json`:</p>\\n        <pre><code>anyscale login</code></pre>\\n        <p>You can also manually generate your API token [through the console](https://console.anyscale.com/v2/api-keys), and set it in the [`ANYSCALE_CLI_TOKEN` environment variable](./resources/environment-variables.md). </p>\\n    </TabItem>\\n</Tabs>\\n\\n## 4. Add teammates\\n\\n- **View organization members**: To see your team, select the user icon and select **Organization settings**.\\n- **Invite teammates**: To add more people, select **Invite teammates** and enter their email addresses. This sends out invitation links to join.\\n- **Manage roles**: You can assign **owner** and **collaborator** roles to team members. See [Permissions](./administration/organization/permissions.md) for more details on the permissions and access control structure.\\n\\n## 5. Deploy your own Anyscale Cloud\\n\\nTo run workloads on your own AWS or GCP infrastructure with Anyscale orchestration, deploy an Anyscale Cloud in your account.\\n\\n<Tabs groupId=\"anyscale-cloud\">\\n  <TabItem value=\"aws\" label=\"AWS\" default>\\n    <p><b>Step 1: Configure AWS credentials</b></p>\\n    <p>Ensure you have set up AWS credentials on the local machine. See the <a href=\"https://docs.aws.amazon.com/cli/latest/userguide/cli-configure-files.html#cli-configure-files-methods\">AWS configuration guide</a> for initial setup instructions. Run this command to quickly set and view the credentials:</p>\\n    <pre>aws configure</pre>\\n    <Admonition type=\"info\" icon=\"🔍\" title=\"Verify AWS credentials permissions\">\\n      <ul>\\n        <li>Confirm the credentials can launch EC2 instances in the desired AWS region.</li>\\n        <li>Check permissions for managing VPC, subnets, Security Group, IAM, S3, and EFS. Find detailed requirements in the <a href=\"./administration/cloud-deployment/manage-aws-cloud.md\">Anyscale AWS management guide</a>.</li>\\n      </ul>\\n    </Admonition>\\n    <p><b>Step 2: Create your Anyscale Cloud</b></p>\\n    <p>To set up your Anyscale Cloud with default settings, run the following command:</p>\\n    <pre><code>anyscale cloud setup</code></pre>\\n    <p>For troubleshooting and advanced customization, follow the complete <a href=\"./administration/cloud-deployment/manage-aws-cloud.md#fine-grained-permission-control-with-cloud-register-advanced\">Anyscale Cloud on AWS guide</a>.</p>\\n    <p><b>Step 3: Verify the Anyscale Cloud</b></p>\\n    <p>To verify that the Anyscale Cloud satisfies the minimum resource requirements, run the following command to launch a test workspace and service:</p>\\n    <pre><code>anyscale cloud verify --name NAME_OF_CLOUD --functional-verify workspace,service</code></pre>\\n  </TabItem>\\n    <TabItem value=\"gcp\" label=\"GCP\">\\n    <p><b>Step 1: Configure your GCP Account</b></p>\\n    <ul>\\n    <li>Follow the <a href=\"https://cloud.google.com/sdk/docs/install-sdk\" target=\"_blank\" rel=\"noopener noreferrer\">Google Cloud instructions</a> for installing the `gcloud` CLI.</li>\\n    <li>Create a GCP project for Anyscale to launch clusters in.</li>\\n    </ul>\\n    <Admonition type=\"info\" icon=\"🔍\" title=\"Verify GCP credentials permissions\">\\n      <ul>\\n        <li>Confirm you\\'re the owner of the GCP project in which Anyscale operates, by clicking **IAM & Admin** in the <a href=\"https://console.cloud.google.com/\" target=\"_blank\" rel=\"noopener noreferrer\">Google Cloud Platform Console.</a></li>\\n      </ul>\\n    </Admonition>\\n    <p><b>Step 2: Create the Anyscale Cloud</b></p>\\n    <p>To set up the Anyscale Cloud with default settings, run the following command:</p>\\n    <pre><code>anyscale cloud setup</code></pre>\\n    <p>For troubleshooting and advanced customization, follow the complete <a href=\"./administration/cloud-deployment/deploy-gcp-cloud.md\">Anyscale Clouds on GCP guide</a>.</p>\\n    <p><b>Step 3: Verify the Anyscale Cloud</b></p>\\n    <p>To verify that the Anyscale Cloud satisfies the minimum resource requirements, run the following command to launch a test Workspace and Service:</p>\\n    <pre><code>anyscale cloud verify --name NAME_OF_CLOUD --functional-verify workspace,service</code></pre>\\n  </TabItem>\\n</Tabs>\\n\\n:::tip[What\\'s next?]\\n➡️ **[Anyscale Workspaces](./platform/workspaces/workspaces.md)** - Start developing your own apps with in a cloud-based IDE.  \\n➡️ **[Anyscale Jobs](./platform/jobs/index.md)** - Run, queue, and schedule long-running tasks and offline jobs efficiently.  \\n➡️ **[Anyscale Services](./platform/services/index.md)** - Deploy, manage, and monitor persistent online services.  \\n➡️ **[Organization administration](./administration/organization/user-management.md)** - Manage users and permissions within your organization. \\n:::'}"
      ]
     },
     "execution_count": null,
     "metadata": {},
     "output_type": "execute_result"
    }
   ],
   "source": [
    "sample[0]"
   ]
  },
  {
   "cell_type": "code",
   "execution_count": null,
   "metadata": {},
   "outputs": [],
   "source": [
    "headers_to_split_on = [\n",
    "        (\"#\", \"Header 1\"),\n",
    "        (\"##\", \"Header 2\"),\n",
    "        (\"###\", \"Header 3\"),\n",
    "        (\"####\", \"Header 4\"),\n",
    "    ]\n",
    "\n",
    "markdown_splitter = MarkdownHeaderTextSplitter(headers_to_split_on=headers_to_split_on, strip_headers=False)"
   ]
  },
  {
   "cell_type": "code",
   "execution_count": null,
   "metadata": {},
   "outputs": [],
   "source": [
    "chunks = markdown_splitter.split_text(sample[0]['text'])"
   ]
  },
  {
   "cell_type": "code",
   "execution_count": null,
   "metadata": {},
   "outputs": [
    {
     "data": {
      "text/plain": [
       "[Document(page_content=\"import Admonition from '@theme/Admonition';\\nimport Tabs from '@theme/Tabs';\\nimport TabItem from '@theme/TabItem';\"),\n",
       " Document(metadata={'Header 1': 'Get started', 'Header 2': '1. Join Anyscale'}, page_content='# Get started  \\n## 1. Join Anyscale  \\n- [Sign up](https://console.anyscale.com) for an Anyscale account at [`console.anyscale.com`](https://console.anyscale.com).\\n- Check your email for a magic link.'),\n",
       " Document(metadata={'Header 1': 'Get started', 'Header 2': \"2. Try it out in Anyscale's cloud\"}, page_content=\"## 2. Try it out in Anyscale's cloud  \\nLaunch an example template in Anyscale's fully hosted development environment to quickly learn the platform's capabilities. Anyscale set up the compute resources for you, so you can get started right away with on-demand GPUs.  \\nChoose from [deploying](https://console.anyscale.com/v2/template-preview/endpoints_v2) and [fine-tuning](https://console.anyscale.com/v2/template-preview/finetuning_llms_v2) large language models, scaling [batch inference](https://console.anyscale.com/v2/template-preview/batch-llm), [serving Stable Diffusion](https://console.anyscale.com/v2/template-preview/serve-stable-diffusion-v2), and much more.  \\n![Anyscale UI](/img/get-started/oa-ui.png)\"),\n",
       " Document(metadata={'Header 1': 'Get started', 'Header 2': '3. Set up your environment'}, page_content='## 3. Set up your environment  \\nTo programmatically interact with Anyscale outside the console and from your terminal, you need to install the [Anyscale CLI](./reference/index.md).  \\n<Tabs groupId=\"anyscale-cloud\">\\n<TabItem value=\"aws\" label=\"AWS\" default>\\n<p><b>Step 1: Install the Anyscale CLI and Python client package</b></p>\\n<pre><code>pip install -U anyscale</code></pre>\\n<p><b>Step 2: Authenticate the CLI</b></p>\\n<p>To access Anyscale\\'s services, you need to obtain a token that verifies your identity. Running the following command fetches and updates the token in the local credential file `~/.anyscale/credentials.json`:</p>\\n<pre><code>anyscale login</code></pre>\\n<p>You can also manually generate your API token [through the console](https://console.anyscale.com/v2/api-keys), and set it in the [`ANYSCALE_CLI_TOKEN` environment variable](./resources/environment-variables.md).</p>\\n</TabItem>\\n<TabItem value=\"gcp\" label=\"GCP\">\\n<p><b>Step 1: Install the Anyscale CLI and Python client package</b></p>\\n<pre><code>pip install -U \"anyscale[gcp]\"</code></pre>\\n<p><b>Step 2: Authenticate the CLI</b></p>\\n<p>To access Anyscale\\'s services, you need to obtain a token that verifies your identity. Running the following command fetches and updates the token in the local credential file `~/.anyscale/credentials.json`:</p>\\n<pre><code>anyscale login</code></pre>\\n<p>You can also manually generate your API token [through the console](https://console.anyscale.com/v2/api-keys), and set it in the [`ANYSCALE_CLI_TOKEN` environment variable](./resources/environment-variables.md). </p>\\n</TabItem>\\n</Tabs>'),\n",
       " Document(metadata={'Header 1': 'Get started', 'Header 2': '4. Add teammates'}, page_content='## 4. Add teammates  \\n- **View organization members**: To see your team, select the user icon and select **Organization settings**.\\n- **Invite teammates**: To add more people, select **Invite teammates** and enter their email addresses. This sends out invitation links to join.\\n- **Manage roles**: You can assign **owner** and **collaborator** roles to team members. See [Permissions](./administration/organization/permissions.md) for more details on the permissions and access control structure.'),\n",
       " Document(metadata={'Header 1': 'Get started', 'Header 2': '5. Deploy your own Anyscale Cloud'}, page_content='## 5. Deploy your own Anyscale Cloud  \\nTo run workloads on your own AWS or GCP infrastructure with Anyscale orchestration, deploy an Anyscale Cloud in your account.  \\n<Tabs groupId=\"anyscale-cloud\">\\n<TabItem value=\"aws\" label=\"AWS\" default>\\n<p><b>Step 1: Configure AWS credentials</b></p>\\n<p>Ensure you have set up AWS credentials on the local machine. See the <a href=\"https://docs.aws.amazon.com/cli/latest/userguide/cli-configure-files.html#cli-configure-files-methods\">AWS configuration guide</a> for initial setup instructions. Run this command to quickly set and view the credentials:</p>\\n<pre>aws configure</pre>\\n<Admonition type=\"info\" icon=\"🔍\" title=\"Verify AWS credentials permissions\">\\n<ul>\\n<li>Confirm the credentials can launch EC2 instances in the desired AWS region.</li>\\n<li>Check permissions for managing VPC, subnets, Security Group, IAM, S3, and EFS. Find detailed requirements in the <a href=\"./administration/cloud-deployment/manage-aws-cloud.md\">Anyscale AWS management guide</a>.</li>\\n</ul>\\n</Admonition>\\n<p><b>Step 2: Create your Anyscale Cloud</b></p>\\n<p>To set up your Anyscale Cloud with default settings, run the following command:</p>\\n<pre><code>anyscale cloud setup</code></pre>\\n<p>For troubleshooting and advanced customization, follow the complete <a href=\"./administration/cloud-deployment/manage-aws-cloud.md#fine-grained-permission-control-with-cloud-register-advanced\">Anyscale Cloud on AWS guide</a>.</p>\\n<p><b>Step 3: Verify the Anyscale Cloud</b></p>\\n<p>To verify that the Anyscale Cloud satisfies the minimum resource requirements, run the following command to launch a test workspace and service:</p>\\n<pre><code>anyscale cloud verify --name NAME_OF_CLOUD --functional-verify workspace,service</code></pre>\\n</TabItem>\\n<TabItem value=\"gcp\" label=\"GCP\">\\n<p><b>Step 1: Configure your GCP Account</b></p>\\n<ul>\\n<li>Follow the <a href=\"https://cloud.google.com/sdk/docs/install-sdk\" target=\"_blank\" rel=\"noopener noreferrer\">Google Cloud instructions</a> for installing the `gcloud` CLI.</li>\\n<li>Create a GCP project for Anyscale to launch clusters in.</li>\\n</ul>\\n<Admonition type=\"info\" icon=\"🔍\" title=\"Verify GCP credentials permissions\">\\n<ul>\\n<li>Confirm you\\'re the owner of the GCP project in which Anyscale operates, by clicking **IAM & Admin** in the <a href=\"https://console.cloud.google.com/\" target=\"_blank\" rel=\"noopener noreferrer\">Google Cloud Platform Console.</a></li>\\n</ul>\\n</Admonition>\\n<p><b>Step 2: Create the Anyscale Cloud</b></p>\\n<p>To set up the Anyscale Cloud with default settings, run the following command:</p>\\n<pre><code>anyscale cloud setup</code></pre>\\n<p>For troubleshooting and advanced customization, follow the complete <a href=\"./administration/cloud-deployment/deploy-gcp-cloud.md\">Anyscale Clouds on GCP guide</a>.</p>\\n<p><b>Step 3: Verify the Anyscale Cloud</b></p>\\n<p>To verify that the Anyscale Cloud satisfies the minimum resource requirements, run the following command to launch a test Workspace and Service:</p>\\n<pre><code>anyscale cloud verify --name NAME_OF_CLOUD --functional-verify workspace,service</code></pre>\\n</TabItem>\\n</Tabs>  \\n:::tip[What\\'s next?]\\n➡️ **[Anyscale Workspaces](./platform/workspaces/workspaces.md)** - Start developing your own apps with in a cloud-based IDE.\\n➡️ **[Anyscale Jobs](./platform/jobs/index.md)** - Run, queue, and schedule long-running tasks and offline jobs efficiently.\\n➡️ **[Anyscale Services](./platform/services/index.md)** - Deploy, manage, and monitor persistent online services.\\n➡️ **[Organization administration](./administration/organization/user-management.md)** - Manage users and permissions within your organization.\\n:::')]"
      ]
     },
     "execution_count": null,
     "metadata": {},
     "output_type": "execute_result"
    }
   ],
   "source": [
    "chunks"
   ]
  },
  {
   "cell_type": "code",
   "execution_count": null,
   "metadata": {},
   "outputs": [],
   "source": [
    "def chunk_md(md_doc):\n",
    "    headers_to_split_on = [\n",
    "        (\"#\", \"Header 1\"),\n",
    "        (\"##\", \"Header 2\"),\n",
    "        (\"###\", \"Header 3\"),\n",
    "        (\"####\", \"Header 4\"),\n",
    "    ]\n",
    "\n",
    "    markdown_splitter = MarkdownHeaderTextSplitter(\n",
    "        headers_to_split_on=headers_to_split_on, \n",
    "        strip_headers=False\n",
    "        )\n",
    "    \n",
    "    chunks = markdown_splitter.split_text(md_doc[\"text\"])\n",
    "    return[{\"text\": chunk.page_content, \"source\": md_doc[\"source\"]} for chunk in chunks]\n"
   ]
  },
  {
   "cell_type": "code",
   "execution_count": null,
   "metadata": {},
   "outputs": [
    {
     "data": {
      "text/plain": [
       "{'source': 'https://docs.anyscale.com/get-started',\n",
       " 'text': 'import Admonition from \\'@theme/Admonition\\';\\nimport Tabs from \\'@theme/Tabs\\';\\nimport TabItem from \\'@theme/TabItem\\';\\n\\n# Get started\\n\\n## 1. Join Anyscale\\n\\n- [Sign up](https://console.anyscale.com) for an Anyscale account at [`console.anyscale.com`](https://console.anyscale.com).\\n- Check your email for a magic link.\\n\\n## 2. Try it out in Anyscale\\'s cloud\\n\\nLaunch an example template in Anyscale\\'s fully hosted development environment to quickly learn the platform\\'s capabilities. Anyscale set up the compute resources for you, so you can get started right away with on-demand GPUs. \\n\\nChoose from [deploying](https://console.anyscale.com/v2/template-preview/endpoints_v2) and [fine-tuning](https://console.anyscale.com/v2/template-preview/finetuning_llms_v2) large language models, scaling [batch inference](https://console.anyscale.com/v2/template-preview/batch-llm), [serving Stable Diffusion](https://console.anyscale.com/v2/template-preview/serve-stable-diffusion-v2), and much more.\\n\\n![Anyscale UI](/img/get-started/oa-ui.png)\\n\\n## 3. Set up your environment\\n\\nTo programmatically interact with Anyscale outside the console and from your terminal, you need to install the [Anyscale CLI](./reference/index.md).\\n\\n<Tabs groupId=\"anyscale-cloud\">\\n    <TabItem value=\"aws\" label=\"AWS\" default>\\n        <p><b>Step 1: Install the Anyscale CLI and Python client package</b></p>\\n        <pre><code>pip install -U anyscale</code></pre>\\n        <p><b>Step 2: Authenticate the CLI</b></p>\\n        <p>To access Anyscale\\'s services, you need to obtain a token that verifies your identity. Running the following command fetches and updates the token in the local credential file `~/.anyscale/credentials.json`:</p>\\n        <pre><code>anyscale login</code></pre>\\n        <p>You can also manually generate your API token [through the console](https://console.anyscale.com/v2/api-keys), and set it in the [`ANYSCALE_CLI_TOKEN` environment variable](./resources/environment-variables.md).</p>\\n    </TabItem>\\n        <TabItem value=\"gcp\" label=\"GCP\">\\n        <p><b>Step 1: Install the Anyscale CLI and Python client package</b></p>\\n        <pre><code>pip install -U \"anyscale[gcp]\"</code></pre>\\n        <p><b>Step 2: Authenticate the CLI</b></p>\\n        <p>To access Anyscale\\'s services, you need to obtain a token that verifies your identity. Running the following command fetches and updates the token in the local credential file `~/.anyscale/credentials.json`:</p>\\n        <pre><code>anyscale login</code></pre>\\n        <p>You can also manually generate your API token [through the console](https://console.anyscale.com/v2/api-keys), and set it in the [`ANYSCALE_CLI_TOKEN` environment variable](./resources/environment-variables.md). </p>\\n    </TabItem>\\n</Tabs>\\n\\n## 4. Add teammates\\n\\n- **View organization members**: To see your team, select the user icon and select **Organization settings**.\\n- **Invite teammates**: To add more people, select **Invite teammates** and enter their email addresses. This sends out invitation links to join.\\n- **Manage roles**: You can assign **owner** and **collaborator** roles to team members. See [Permissions](./administration/organization/permissions.md) for more details on the permissions and access control structure.\\n\\n## 5. Deploy your own Anyscale Cloud\\n\\nTo run workloads on your own AWS or GCP infrastructure with Anyscale orchestration, deploy an Anyscale Cloud in your account.\\n\\n<Tabs groupId=\"anyscale-cloud\">\\n  <TabItem value=\"aws\" label=\"AWS\" default>\\n    <p><b>Step 1: Configure AWS credentials</b></p>\\n    <p>Ensure you have set up AWS credentials on the local machine. See the <a href=\"https://docs.aws.amazon.com/cli/latest/userguide/cli-configure-files.html#cli-configure-files-methods\">AWS configuration guide</a> for initial setup instructions. Run this command to quickly set and view the credentials:</p>\\n    <pre>aws configure</pre>\\n    <Admonition type=\"info\" icon=\"🔍\" title=\"Verify AWS credentials permissions\">\\n      <ul>\\n        <li>Confirm the credentials can launch EC2 instances in the desired AWS region.</li>\\n        <li>Check permissions for managing VPC, subnets, Security Group, IAM, S3, and EFS. Find detailed requirements in the <a href=\"./administration/cloud-deployment/manage-aws-cloud.md\">Anyscale AWS management guide</a>.</li>\\n      </ul>\\n    </Admonition>\\n    <p><b>Step 2: Create your Anyscale Cloud</b></p>\\n    <p>To set up your Anyscale Cloud with default settings, run the following command:</p>\\n    <pre><code>anyscale cloud setup</code></pre>\\n    <p>For troubleshooting and advanced customization, follow the complete <a href=\"./administration/cloud-deployment/manage-aws-cloud.md#fine-grained-permission-control-with-cloud-register-advanced\">Anyscale Cloud on AWS guide</a>.</p>\\n    <p><b>Step 3: Verify the Anyscale Cloud</b></p>\\n    <p>To verify that the Anyscale Cloud satisfies the minimum resource requirements, run the following command to launch a test workspace and service:</p>\\n    <pre><code>anyscale cloud verify --name NAME_OF_CLOUD --functional-verify workspace,service</code></pre>\\n  </TabItem>\\n    <TabItem value=\"gcp\" label=\"GCP\">\\n    <p><b>Step 1: Configure your GCP Account</b></p>\\n    <ul>\\n    <li>Follow the <a href=\"https://cloud.google.com/sdk/docs/install-sdk\" target=\"_blank\" rel=\"noopener noreferrer\">Google Cloud instructions</a> for installing the `gcloud` CLI.</li>\\n    <li>Create a GCP project for Anyscale to launch clusters in.</li>\\n    </ul>\\n    <Admonition type=\"info\" icon=\"🔍\" title=\"Verify GCP credentials permissions\">\\n      <ul>\\n        <li>Confirm you\\'re the owner of the GCP project in which Anyscale operates, by clicking **IAM & Admin** in the <a href=\"https://console.cloud.google.com/\" target=\"_blank\" rel=\"noopener noreferrer\">Google Cloud Platform Console.</a></li>\\n      </ul>\\n    </Admonition>\\n    <p><b>Step 2: Create the Anyscale Cloud</b></p>\\n    <p>To set up the Anyscale Cloud with default settings, run the following command:</p>\\n    <pre><code>anyscale cloud setup</code></pre>\\n    <p>For troubleshooting and advanced customization, follow the complete <a href=\"./administration/cloud-deployment/deploy-gcp-cloud.md\">Anyscale Clouds on GCP guide</a>.</p>\\n    <p><b>Step 3: Verify the Anyscale Cloud</b></p>\\n    <p>To verify that the Anyscale Cloud satisfies the minimum resource requirements, run the following command to launch a test Workspace and Service:</p>\\n    <pre><code>anyscale cloud verify --name NAME_OF_CLOUD --functional-verify workspace,service</code></pre>\\n  </TabItem>\\n</Tabs>\\n\\n:::tip[What\\'s next?]\\n➡️ **[Anyscale Workspaces](./platform/workspaces/workspaces.md)** - Start developing your own apps with in a cloud-based IDE.  \\n➡️ **[Anyscale Jobs](./platform/jobs/index.md)** - Run, queue, and schedule long-running tasks and offline jobs efficiently.  \\n➡️ **[Anyscale Services](./platform/services/index.md)** - Deploy, manage, and monitor persistent online services.  \\n➡️ **[Organization administration](./administration/organization/user-management.md)** - Manage users and permissions within your organization. \\n:::'}"
      ]
     },
     "execution_count": null,
     "metadata": {},
     "output_type": "execute_result"
    }
   ],
   "source": [
    "sample[0]"
   ]
  },
  {
   "cell_type": "code",
   "execution_count": null,
   "metadata": {},
   "outputs": [],
   "source": [
    "temp = chunk_md(sample[0])"
   ]
  },
  {
   "cell_type": "code",
   "execution_count": null,
   "metadata": {},
   "outputs": [
    {
     "data": {
      "text/plain": [
       "{'text': \"import Admonition from '@theme/Admonition';\\nimport Tabs from '@theme/Tabs';\\nimport TabItem from '@theme/TabItem';\",\n",
       " 'source': 'https://docs.anyscale.com/get-started'}"
      ]
     },
     "execution_count": null,
     "metadata": {},
     "output_type": "execute_result"
    }
   ],
   "source": [
    "temp[0]"
   ]
  },
  {
   "cell_type": "code",
   "execution_count": null,
   "metadata": {},
   "outputs": [],
   "source": [
    "chunks_ds = anyscale_sections_ds.flat_map(chunk_md)"
   ]
  },
  {
   "cell_type": "code",
   "execution_count": null,
   "metadata": {},
   "outputs": [
    {
     "name": "stderr",
     "output_type": "stream",
     "text": [
      "2024-08-28 23:33:44,370\tINFO streaming_executor.py:108 -- Starting execution of Dataset. Full logs are in /tmp/ray/session_2024-08-28_16-37-38_889087_2268/logs/ray-data\n",
      "2024-08-28 23:33:44,370\tINFO streaming_executor.py:109 -- Execution plan of Dataset: InputDataBuffer[Input] -> TaskPoolMapOperator[FlatMap(chunk_md)] -> LimitOperator[limit=1]\n",
      "Running 0: 0.00 row [00:00, ? row/s]\n",
      "\u001b[A"
     ]
    },
    {
     "name": "stderr",
     "output_type": "stream",
     "text": [
      "\n",
      "\u001b[A\n",
      "Running: 1/0 CPU, 0/0 GPU, 256.0MB/2.1GB object_store_memory: : 0.00 row [00:01, ? row/s]\n",
      "Running: 1/0 CPU, 0/0 GPU, 256.0MB/2.1GB object_store_memory: : 0.00 row [00:02, ? row/s]\n",
      "Running: 1/0 CPU, 0/0 GPU, 256.0MB/2.1GB object_store_memory: : 0.00 row [00:03, ? row/s]\n",
      "Running: 1/0 CPU, 0/0 GPU, 256.0MB/2.1GB object_store_memory: : 0.00 row [00:04, ? row/s]\n",
      "Running: 1/0 CPU, 0/0 GPU, 256.0MB/2.1GB object_store_memory: : 0.00 row [00:05, ? row/s]\n",
      "Running: 1/0 CPU, 0/0 GPU, 256.0MB/2.1GB object_store_memory: : 0.00 row [00:06, ? row/s]\n",
      "Running: 1/0 CPU, 0/0 GPU, 256.0MB/2.1GB object_store_memory: : 0.00 row [00:07, ? row/s]\n",
      "Running: 1/0 CPU, 0/0 GPU, 256.0MB/2.1GB object_store_memory: : 0.00 row [00:08, ? row/s]\n",
      "Running: 1/0 CPU, 0/0 GPU, 256.0MB/2.1GB object_store_memory: : 0.00 row [00:09, ? row/s]\n",
      "Running: 1/0 CPU, 0/0 GPU, 256.0MB/2.1GB object_store_memory: : 0.00 row [00:10, ? row/s]\n",
      "Running: 1/0 CPU, 0/0 GPU, 256.0MB/2.1GB object_store_memory: : 0.00 row [00:11, ? row/s]\n",
      "Running: 1/0 CPU, 0/0 GPU, 256.0MB/2.1GB object_store_memory: : 0.00 row [00:12, ? row/s]\n",
      "Running: 1/0 CPU, 0/0 GPU, 256.0MB/2.1GB object_store_memory: : 0.00 row [00:13, ? row/s]\n",
      "Running: 1/0 CPU, 0/0 GPU, 256.0MB/2.1GB object_store_memory: : 0.00 row [00:14, ? row/s]\n",
      "Running: 1/0 CPU, 0/0 GPU, 256.0MB/2.1GB object_store_memory: : 0.00 row [00:15, ? row/s]\n",
      "Running: 1/0 CPU, 0/0 GPU, 256.0MB/2.1GB object_store_memory: : 0.00 row [00:16, ? row/s]\n",
      "Running: 1/0 CPU, 0/0 GPU, 256.0MB/2.1GB object_store_memory: : 0.00 row [00:17, ? row/s]\n",
      "Running: 1/0 CPU, 0/0 GPU, 256.0MB/2.1GB object_store_memory: : 0.00 row [00:18, ? row/s]\n",
      "Running: 1/0 CPU, 0/0 GPU, 256.0MB/2.1GB object_store_memory: : 0.00 row [00:19, ? row/s]\n",
      "Running: 1/0 CPU, 0/0 GPU, 256.0MB/2.1GB object_store_memory: : 0.00 row [00:20, ? row/s]\n",
      "Running: 1/0 CPU, 0/0 GPU, 256.0MB/2.1GB object_store_memory: : 0.00 row [00:21, ? row/s]\n",
      "Running: 1/0 CPU, 0/0 GPU, 256.0MB/2.1GB object_store_memory: : 0.00 row [00:22, ? row/s]\n",
      "Running: 1/0 CPU, 0/0 GPU, 256.0MB/2.1GB object_store_memory: : 0.00 row [00:23, ? row/s]\n",
      "Running: 1/0 CPU, 0/0 GPU, 256.0MB/2.1GB object_store_memory: : 0.00 row [00:24, ? row/s]\n",
      "Running: 1/0 CPU, 0/0 GPU, 256.0MB/2.1GB object_store_memory: : 0.00 row [00:25, ? row/s]\n",
      "Running: 1/0 CPU, 0/0 GPU, 256.0MB/2.1GB object_store_memory: : 0.00 row [00:26, ? row/s]\n",
      "Running: 1/0 CPU, 0/0 GPU, 256.0MB/2.1GB object_store_memory: : 0.00 row [00:27, ? row/s]\n",
      "Running: 1/0 CPU, 0/0 GPU, 256.0MB/2.1GB object_store_memory: : 0.00 row [00:28, ? row/s]\n",
      "Running: 1/0 CPU, 0/0 GPU, 256.0MB/2.1GB object_store_memory: : 0.00 row [00:29, ? row/s]\n",
      "Running: 1/0 CPU, 0/0 GPU, 256.0MB/2.1GB object_store_memory: : 0.00 row [00:30, ? row/s]\n",
      "Running: 1/0 CPU, 0/0 GPU, 256.0MB/2.1GB object_store_memory: : 0.00 row [00:31, ? row/s]\n",
      "Running: 1/0 CPU, 0/0 GPU, 256.0MB/2.1GB object_store_memory: : 0.00 row [00:32, ? row/s]\n",
      "Running: 1/0 CPU, 0/0 GPU, 256.0MB/2.1GB object_store_memory: : 0.00 row [00:33, ? row/s]\n",
      "Running: 1/0 CPU, 0/0 GPU, 256.0MB/2.1GB object_store_memory: : 0.00 row [00:34, ? row/s]\n",
      "Running: 1/0 CPU, 0/0 GPU, 256.0MB/2.1GB object_store_memory: : 0.00 row [00:35, ? row/s]\n",
      "Running: 1/0 CPU, 0/0 GPU, 256.0MB/2.1GB object_store_memory: : 0.00 row [00:36, ? row/s]\n",
      "Running: 1/0 CPU, 0/0 GPU, 256.0MB/2.1GB object_store_memory: : 0.00 row [00:37, ? row/s]\n",
      "Running: 1/0 CPU, 0/0 GPU, 256.0MB/2.1GB object_store_memory: : 0.00 row [00:38, ? row/s]\n",
      "Running: 1/0 CPU, 0/0 GPU, 256.0MB/2.1GB object_store_memory: : 0.00 row [00:39, ? row/s]\n",
      "Running: 48/48 CPU, 0/0 GPU, 12.0GB/29.7GB object_store_memory: : 0.00 row [00:40, ? row/s]\n",
      "Running: 48/48 CPU, 0/0 GPU, 12.0GB/29.7GB object_store_memory: : 0.00 row [00:41, ? row/s]\n",
      "Running: 48/48 CPU, 0/0 GPU, 12.0GB/29.7GB object_store_memory: : 0.00 row [00:42, ? row/s]\n",
      "Running: 48/48 CPU, 0/0 GPU, 12.0GB/29.7GB object_store_memory: : 0.00 row [00:43, ? row/s]\n",
      "Running: 48/48 CPU, 0/0 GPU, 12.0GB/29.7GB object_store_memory: : 0.00 row [00:44, ? row/s]\n",
      "Running: 48/48 CPU, 0/0 GPU, 12.0GB/29.7GB object_store_memory: : 0.00 row [00:45, ? row/s]\n",
      "Running: 48/48 CPU, 0/0 GPU, 12.0GB/29.7GB object_store_memory: : 0.00 row [00:46, ? row/s]\n",
      "Running: 48/48 CPU, 0/0 GPU, 12.0GB/29.7GB object_store_memory: : 0.00 row [00:47, ? row/s]\n",
      "Running: 48/48 CPU, 0/0 GPU, 12.0GB/29.7GB object_store_memory: : 0.00 row [00:48, ? row/s]\n",
      "Running: 48/48 CPU, 0/0 GPU, 12.0GB/29.7GB object_store_memory: : 0.00 row [00:49, ? row/s]\n",
      "Running: 48/48 CPU, 0/0 GPU, 12.0GB/29.7GB object_store_memory: : 0.00 row [00:50, ? row/s]\n",
      "Running: 48/48 CPU, 0/0 GPU, 12.0GB/29.7GB object_store_memory: : 0.00 row [00:51, ? row/s]\n",
      "Running: 48/48 CPU, 0/0 GPU, 12.0GB/29.7GB object_store_memory: : 0.00 row [00:52, ? row/s]\n",
      "Running: 48/48 CPU, 0/0 GPU, 12.0GB/29.7GB object_store_memory: : 0.00 row [00:53, ? row/s]\n",
      "Running: 48/48 CPU, 0/0 GPU, 12.0GB/29.7GB object_store_memory: : 0.00 row [00:54, ? row/s]\n",
      "Running: 48/48 CPU, 0/0 GPU, 12.0GB/29.7GB object_store_memory: : 0.00 row [00:55, ? row/s]\n",
      "Running: 48/48 CPU, 0/0 GPU, 12.0GB/29.7GB object_store_memory: : 0.00 row [00:56, ? row/s]\n",
      "Running: 48/48 CPU, 0/0 GPU, 12.0GB/29.7GB object_store_memory: : 0.00 row [00:57, ? row/s]\n",
      "Running: 48/48 CPU, 0/0 GPU, 12.0GB/29.7GB object_store_memory: : 0.00 row [00:58, ? row/s]\n",
      "Running: 48/48 CPU, 0/0 GPU, 12.0GB/29.7GB object_store_memory: : 0.00 row [00:59, ? row/s]\n",
      "Running: 48/48 CPU, 0/0 GPU, 12.0GB/29.7GB object_store_memory: : 0.00 row [01:00, ? row/s]\n",
      "Running: 48/48 CPU, 0/0 GPU, 12.0GB/29.7GB object_store_memory: : 0.00 row [01:01, ? row/s]\n",
      "Running: 48/48 CPU, 0/0 GPU, 12.0GB/29.7GB object_store_memory: : 0.00 row [01:02, ? row/s]\n",
      "Running: 48/48 CPU, 0/0 GPU, 12.0GB/29.7GB object_store_memory: : 0.00 row [01:03, ? row/s]\n",
      "Running: 48/48 CPU, 0/0 GPU, 12.0GB/29.7GB object_store_memory: : 0.00 row [01:04, ? row/s]\n",
      "Running: 48/48 CPU, 0/0 GPU, 12.0GB/29.7GB object_store_memory: : 0.00 row [01:05, ? row/s]\n",
      "Running: 48/48 CPU, 0/0 GPU, 12.0GB/29.7GB object_store_memory: : 0.00 row [01:06, ? row/s]\n",
      "Running: 48/48 CPU, 0/0 GPU, 12.0GB/29.7GB object_store_memory: : 0.00 row [01:07, ? row/s]\n",
      "Running: 48/48 CPU, 0/0 GPU, 12.0GB/29.7GB object_store_memory: : 0.00 row [01:08, ? row/s]\n",
      "Running: 48/48 CPU, 0/0 GPU, 12.0GB/29.7GB object_store_memory: : 0.00 row [01:09, ? row/s]\n",
      "Running: 48/48 CPU, 0/0 GPU, 12.0GB/29.7GB object_store_memory: : 0.00 row [01:10, ? row/s]\n",
      "Running: 48/48 CPU, 0/0 GPU, 12.0GB/29.7GB object_store_memory: : 0.00 row [01:11, ? row/s]\n",
      "Running: 48/48 CPU, 0/0 GPU, 12.0GB/29.7GB object_store_memory: : 0.00 row [01:12, ? row/s]\n",
      "Running: 48/48 CPU, 0/0 GPU, 12.0GB/29.7GB object_store_memory: : 0.00 row [01:13, ? row/s]\n",
      "Running: 48/48 CPU, 0/0 GPU, 12.0GB/29.7GB object_store_memory: : 0.00 row [01:14, ? row/s]\n",
      "Running: 48/48 CPU, 0/0 GPU, 12.0GB/29.7GB object_store_memory: : 0.00 row [01:15, ? row/s]\n",
      "Running: 48/48 CPU, 0/0 GPU, 12.0GB/29.7GB object_store_memory: : 0.00 row [01:16, ? row/s]\n",
      "Running: 48/48 CPU, 0/0 GPU, 12.0GB/29.7GB object_store_memory: : 0.00 row [01:17, ? row/s]\n",
      "Running: 48/48 CPU, 0/0 GPU, 12.0GB/29.7GB object_store_memory: : 0.00 row [01:18, ? row/s]\n",
      "Running: 48/48 CPU, 0/0 GPU, 12.0GB/29.7GB object_store_memory: : 0.00 row [01:19, ? row/s]\n",
      "Running: 48/48 CPU, 0/0 GPU, 12.0GB/29.7GB object_store_memory: : 0.00 row [01:21, ? row/s]\n",
      "Running: 48/48 CPU, 0/0 GPU, 12.0GB/29.7GB object_store_memory: : 0.00 row [01:22, ? row/s]\n",
      "Running: 48/48 CPU, 0/0 GPU, 12.0GB/29.7GB object_store_memory: : 0.00 row [01:23, ? row/s]\n",
      "Running: 48/48 CPU, 0/0 GPU, 12.0GB/29.7GB object_store_memory: : 0.00 row [01:24, ? row/s]\n",
      "Running: 48/48 CPU, 0/0 GPU, 12.0GB/29.7GB object_store_memory: : 0.00 row [01:25, ? row/s]\n",
      "Running: 48/48 CPU, 0/0 GPU, 12.0GB/29.7GB object_store_memory: : 0.00 row [01:26, ? row/s]\n",
      "Running: 48/48 CPU, 0/0 GPU, 12.0GB/29.7GB object_store_memory: : 0.00 row [01:27, ? row/s]\n",
      "Running: 48/48 CPU, 0/0 GPU, 12.0GB/29.7GB object_store_memory: : 0.00 row [01:28, ? row/s]\n",
      "Running: 48/48 CPU, 0/0 GPU, 12.0GB/29.7GB object_store_memory: : 0.00 row [01:29, ? row/s]\n",
      "Running: 48/48 CPU, 0/0 GPU, 12.0GB/29.7GB object_store_memory: : 0.00 row [01:30, ? row/s]\n",
      "Running: 48/48 CPU, 0/0 GPU, 12.0GB/29.7GB object_store_memory: : 0.00 row [01:31, ? row/s]\n",
      "Running: 48/48 CPU, 0/0 GPU, 12.0GB/29.7GB object_store_memory: : 0.00 row [01:32, ? row/s]\n",
      "Running: 48/48 CPU, 0/0 GPU, 12.0GB/29.7GB object_store_memory: : 0.00 row [01:33, ? row/s]\n",
      "Running: 48/48 CPU, 0/0 GPU, 12.0GB/29.7GB object_store_memory: : 0.00 row [01:34, ? row/s]\n",
      "Running: 48/48 CPU, 0/0 GPU, 12.0GB/29.7GB object_store_memory: : 0.00 row [01:35, ? row/s]\n",
      "Running: 48/48 CPU, 0/0 GPU, 12.0GB/29.7GB object_store_memory: : 0.00 row [01:36, ? row/s]\n",
      "Running: 48/48 CPU, 0/0 GPU, 12.0GB/29.7GB object_store_memory: : 0.00 row [01:37, ? row/s]\n",
      "Running: 48/48 CPU, 0/0 GPU, 12.0GB/29.7GB object_store_memory: : 0.00 row [01:38, ? row/s]\n",
      "Running: 48/48 CPU, 0/0 GPU, 12.0GB/29.7GB object_store_memory: : 0.00 row [01:39, ? row/s]\n",
      "Running: 48/48 CPU, 0/0 GPU, 12.0GB/29.7GB object_store_memory: : 0.00 row [01:40, ? row/s]\n",
      "Running: 48/48 CPU, 0/0 GPU, 12.0GB/29.7GB object_store_memory: : 0.00 row [01:41, ? row/s]\n",
      "Running: 48/48 CPU, 0/0 GPU, 12.0GB/29.7GB object_store_memory: : 0.00 row [01:42, ? row/s]\n",
      "Running: 48/48 CPU, 0/0 GPU, 12.0GB/29.7GB object_store_memory: : 0.00 row [01:43, ? row/s]\n",
      "Running: 48/48 CPU, 0/0 GPU, 12.0GB/29.7GB object_store_memory: : 0.00 row [01:44, ? row/s]\n",
      "Running: 48/48 CPU, 0/0 GPU, 12.0GB/29.7GB object_store_memory: : 0.00 row [01:45, ? row/s]\n",
      "Running: 48/48 CPU, 0/0 GPU, 12.0GB/29.7GB object_store_memory: : 0.00 row [01:46, ? row/s]\n",
      "Running: 48/48 CPU, 0/0 GPU, 12.0GB/29.7GB object_store_memory: : 0.00 row [01:47, ? row/s]\n",
      "Running: 48/48 CPU, 0/0 GPU, 12.0GB/29.7GB object_store_memory: : 0.00 row [01:48, ? row/s]\n",
      "Running: 48/48 CPU, 0/0 GPU, 12.0GB/29.7GB object_store_memory: : 0.00 row [01:49, ? row/s]\n",
      "Running: 48/48 CPU, 0/0 GPU, 12.0GB/29.7GB object_store_memory: : 0.00 row [01:50, ? row/s]\n",
      "Running: 48/48 CPU, 0/0 GPU, 12.0GB/29.7GB object_store_memory: : 0.00 row [01:51, ? row/s]\n",
      "Running: 48/48 CPU, 0/0 GPU, 12.0GB/29.7GB object_store_memory: : 0.00 row [01:52, ? row/s]\n",
      "Running: 48/48 CPU, 0/0 GPU, 12.0GB/29.7GB object_store_memory: : 0.00 row [01:53, ? row/s]\n",
      "Running: 48/48 CPU, 0/0 GPU, 12.0GB/29.7GB object_store_memory: : 0.00 row [01:54, ? row/s]\n",
      "Running: 48/48 CPU, 0/0 GPU, 12.0GB/29.7GB object_store_memory: : 0.00 row [01:55, ? row/s]\n",
      "Running: 48/48 CPU, 0/0 GPU, 12.0GB/29.7GB object_store_memory: : 0.00 row [01:56, ? row/s]\n",
      "Running: 48/48 CPU, 0/0 GPU, 12.0GB/29.7GB object_store_memory: : 0.00 row [01:57, ? row/s]\n",
      "Running: 48/48 CPU, 0/0 GPU, 12.0GB/29.7GB object_store_memory: : 0.00 row [01:58, ? row/s]\n",
      "Running: 48/48 CPU, 0/0 GPU, 12.0GB/29.7GB object_store_memory: : 0.00 row [01:59, ? row/s]\n",
      "Running: 48/48 CPU, 0/0 GPU, 12.0GB/29.7GB object_store_memory: : 0.00 row [02:00, ? row/s]\n",
      "Running: 48/48 CPU, 0/0 GPU, 12.0GB/29.7GB object_store_memory: : 0.00 row [02:01, ? row/s]\n",
      "Running: 48/48 CPU, 0/0 GPU, 12.0GB/29.7GB object_store_memory: : 0.00 row [02:02, ? row/s]\n",
      "Running: 48/48 CPU, 0/0 GPU, 12.0GB/29.7GB object_store_memory: : 0.00 row [02:03, ? row/s]\n",
      "Running: 48/48 CPU, 0/0 GPU, 12.0GB/29.7GB object_store_memory: : 0.00 row [02:04, ? row/s]\n",
      "Running: 48/48 CPU, 0/0 GPU, 12.0GB/29.7GB object_store_memory: : 0.00 row [02:05, ? row/s]\n",
      "Running: 48/48 CPU, 0/0 GPU, 12.0GB/29.7GB object_store_memory: : 0.00 row [02:06, ? row/s]\n",
      "Running: 48/48 CPU, 0/0 GPU, 12.0GB/29.7GB object_store_memory: : 0.00 row [02:07, ? row/s]\n",
      "Running: 48/48 CPU, 0/0 GPU, 12.0GB/29.7GB object_store_memory: : 0.00 row [02:08, ? row/s]\n",
      "Running: 48/48 CPU, 0/0 GPU, 12.0GB/29.7GB object_store_memory: : 0.00 row [02:09, ? row/s]\n",
      "Running: 48/48 CPU, 0/0 GPU, 12.0GB/29.7GB object_store_memory: : 0.00 row [02:10, ? row/s]\n",
      "Running: 48/48 CPU, 0/0 GPU, 12.0GB/29.7GB object_store_memory: : 0.00 row [02:11, ? row/s]\n",
      "Running: 48/48 CPU, 0/0 GPU, 12.0GB/29.7GB object_store_memory: : 0.00 row [02:12, ? row/s]\n",
      "Running: 48/48 CPU, 0/0 GPU, 12.0GB/29.7GB object_store_memory: : 0.00 row [02:13, ? row/s]\n",
      "Running: 48/48 CPU, 0/0 GPU, 12.0GB/29.7GB object_store_memory: : 0.00 row [02:14, ? row/s]\n",
      "Running: 48/48 CPU, 0/0 GPU, 12.0GB/29.7GB object_store_memory: : 0.00 row [02:15, ? row/s]\n",
      "\u001b[A\n",
      "                                                                                                     \n",
      "\u001b[A                                                                                                                         \n",
      "\n",
      "✔️  Dataset execution finished in 137.67 seconds: 100%|██████████| 1.00/1.00 [02:17<00:00, 138s/ row]\n",
      "\n",
      "\u001b[A\n",
      "\u001b[A                                                                                                                             \n",
      "\n",
      "- FlatMap(chunk_md): 48 active, 102 queued 🚧, [cpu: 48.0, objects: 706.1KB]: 100%|██████████| 663/663 [02:17<00:00, 4.82 row/s]\n",
      "\n",
      "\u001b[A\n",
      "\u001b[A\n",
      "\u001b[A\n",
      "\u001b[A\n",
      "\u001b[A\n",
      "\n",
      "- limit=1: 0 active, 2 queued, [cpu: 0.0, objects: 0.0B]: 100%|██████████| 1.00/1.00 [02:17<00:00, 138s/ row]"
     ]
    },
    {
     "name": "stderr",
     "output_type": "stream",
     "text": [
      "                                                                                         \n",
      "\u001b[A                                                                                                    \n",
      "\n",
      "Running: 1/0 CPU, 0/0 GPU, 256.0MB/2.1GB object_store_memory: : 0.00 row [00:04, ? row/s]\n",
      "\u001b[A"
     ]
    },
    {
     "name": "stdout",
     "output_type": "stream",
     "text": [
      "\u001b[36m(autoscaler +23m54s)\u001b[0m [autoscaler] [48CPU-192GB] Upscaling 1 node(s).\n"
     ]
    },
    {
     "name": "stderr",
     "output_type": "stream",
     "text": [
      "                                                                                         \n",
      "\u001b[A                                                                                                    \n",
      "\n",
      "Running: 1/0 CPU, 0/0 GPU, 256.0MB/2.1GB object_store_memory: : 0.00 row [00:05, ? row/s]\n",
      "\u001b[A"
     ]
    },
    {
     "name": "stdout",
     "output_type": "stream",
     "text": [
      "\u001b[36m(autoscaler +23m55s)\u001b[0m [autoscaler] [48CPU-192GB|m5.12xlarge] [us-west-2a] [on-demand] Launched 1 instances.\n",
      "\u001b[36m(autoscaler +27m11s)\u001b[0m [autoscaler] Downscaling node i-0679e5d0b86bb5f62 (node IP: 10.0.59.88) due to node idle termination.\n"
     ]
    },
    {
     "name": "stdout",
     "output_type": "stream",
     "text": [
      "{'text': \"import Admonition from '@theme/Admonition';\\nimport Tabs from '@theme/Tabs';\\nimport TabItem from '@theme/TabItem';\", 'source': 'https://docs.anyscale.com/get-started'}\n"
     ]
    },
    {
     "name": "stderr",
     "output_type": "stream",
     "text": [
      "\n"
     ]
    }
   ],
   "source": [
    "chunks_ds.show(1)"
   ]
  },
  {
   "cell_type": "markdown",
   "metadata": {},
   "source": [
    "## Embed\n",
    "\n",
    "To simplify, I'm just doing OpenAI across the board."
   ]
  },
  {
   "cell_type": "code",
   "execution_count": null,
   "metadata": {},
   "outputs": [],
   "source": [
    "from langchain_openai import OpenAIEmbeddings"
   ]
  },
  {
   "cell_type": "code",
   "execution_count": null,
   "metadata": {},
   "outputs": [],
   "source": [
    "embedding_model = OpenAIEmbeddings(\n",
    "            model=\"text-embedding-3-large\",\n",
    "            openai_api_base=os.environ[\"OPENAI_API_BASE\"],\n",
    "            openai_api_key=os.environ[\"OPENAI_API_KEY\"]\n",
    "            )"
   ]
  },
  {
   "cell_type": "code",
   "execution_count": null,
   "metadata": {},
   "outputs": [],
   "source": [
    "class EmbedChunks:\n",
    "    def __init__(self):\n",
    "        self.embedding_model = OpenAIEmbeddings(\n",
    "            model=\"text-embedding-3-large\",\n",
    "            openai_api_base=os.environ[\"OPENAI_API_BASE\"],\n",
    "            openai_api_key=os.environ[\"OPENAI_API_KEY\"]\n",
    "            )\n",
    "    def __call__(self, batch):\n",
    "        embeddings = self.embedding_model.embed_documents(batch[\"text\"])\n",
    "        return {\"text\": batch[\"text\"], \"source\": batch[\"source\"], \"embeddings\": embeddings}"
   ]
  },
  {
   "cell_type": "code",
   "execution_count": null,
   "metadata": {},
   "outputs": [],
   "source": [
    "embedded_chunks = chunks_ds.map_batches(\n",
    "    EmbedChunks,\n",
    "    batch_size=100, \n",
    "    num_gpus=1,\n",
    "    concurrency=1)"
   ]
  },
  {
   "cell_type": "code",
   "execution_count": null,
   "metadata": {},
   "outputs": [
    {
     "name": "stderr",
     "output_type": "stream",
     "text": [
      "2024-08-28 23:51:54,466\tINFO dataset.py:2409 -- Tip: Use `take_batch()` instead of `take() / show()` to return records in pandas or numpy batch format.\n",
      "2024-08-28 23:51:54,470\tINFO streaming_executor.py:108 -- Starting execution of Dataset. Full logs are in /tmp/ray/session_2024-08-28_16-37-38_889087_2268/logs/ray-data\n",
      "2024-08-28 23:51:54,471\tINFO streaming_executor.py:109 -- Execution plan of Dataset: InputDataBuffer[Input] -> TaskPoolMapOperator[FlatMap(chunk_md)] -> ActorPoolMapOperator[MapBatches(EmbedChunks)] -> LimitOperator[limit=1]\n",
      "Running 0: 0.00 row [00:00, ? row/s]"
     ]
    },
    {
     "name": "stderr",
     "output_type": "stream",
     "text": [
      "\n",
      "\u001b[A\n",
      "\n",
      "Running: 0/128 CPU, 1/2 GPU, 0.0B/74.1GB object_store_memory: : 0.00 row [00:59, ? row/s]2024-08-28 23:52:53,661\tWARNING progress_bar.py:122 -- Truncating long operator name to 100 characters.To disable this behavior, set `ray.data.DataContext.get_current().DEFAULT_ENABLE_PROGRESS_BAR_NAME_TRUNCATION = False`.\n",
      "\n",
      "\u001b[A\n",
      "\u001b[A\n",
      "\n",
      "\u001b[A\u001b[A\n",
      "\n",
      "Running: 95/128 CPU, 1/2 GPU, 23.8GB/74.1GB object_store_memory: : 0.00 row [01:00, ? row/s]\n",
      "\u001b[A\n",
      "\n",
      "Running: 94/128 CPU, 1/2 GPU, 449.6KB/74.1GB object_store_memory: : 0.00 row [01:01, ? row/s]\n",
      "\u001b[A\n",
      "\u001b[A\n",
      "\n",
      "Running: 1/128 CPU, 1/2 GPU, 278.7MB/74.1GB object_store_memory: : 0.00 row [01:03, ? row/s] \n",
      "\u001b[A\n",
      "\u001b[A\n",
      "\n",
      "\u001b[A\u001b[A\n",
      "\u001b[A\n",
      "\u001b[A\n",
      "\n",
      "                                                                                                     \n",
      "\u001b[A                                                                                                                        \n",
      "\n",
      "\u001b[A\u001b[A                                                                                                                                       \n",
      "\n",
      "\n",
      "✔️  Dataset execution finished in 64.57 seconds: 100%|██████████| 1.00/1.00 [01:04<00:00, 64.6s/ row]\n",
      "\n",
      "\u001b[A\n",
      "\n",
      "\u001b[A\u001b[A\n",
      "\u001b[A                                                                                                                        \n",
      "\n",
      "\u001b[A\u001b[A                                                                                                                                       \n",
      "\n",
      "\n",
      "- FlatMap(chunk_md): 0 active, 0 queued, [cpu: 0.0, objects: 22.5MB]: 100%|██████████| 2.20k/2.20k [00:05<00:00, 404 row/s]\n",
      "\n",
      "\u001b[A\n",
      "\n",
      "\u001b[A\u001b[A\n",
      "\u001b[A\n",
      "\u001b[A\n",
      "\u001b[A\n",
      "\u001b[A\n",
      "\n",
      "\u001b[A\u001b[A                                                                                                                                                            \n",
      "\n",
      "\n",
      "- MapBatches(EmbedChunks): 4 active, 184 queued, [cpu: 0.0, gpu: 1.0, objects: 2.8MB], 1 actors [locality off]: 100%|██████████| 100/100 [00:05<00:00, 18.3 row/s]\n",
      "\n",
      "\n",
      "\u001b[A\u001b[A\n",
      "\n",
      "\u001b[A\u001b[A\n",
      "\n",
      "\u001b[A\u001b[A\n",
      "\n",
      "\u001b[A\u001b[A\n",
      "\n",
      "\u001b[A\u001b[A\n",
      "\n",
      "\n",
      "- limit=1: 0 active, 0 queued, [cpu: 0.0, objects: 27.1KB]: 100%|██████████| 1.00/1.00 [00:05<00:00, 5.47s/ row]"
     ]
    },
    {
     "name": "stdout",
     "output_type": "stream",
     "text": [
      "embedding size: 3072\n",
      "---\n",
      "slug: /\n",
      "---  \n",
      "import Admonition from '@theme/Admonition';\n"
     ]
    },
    {
     "name": "stderr",
     "output_type": "stream",
     "text": [
      "\n"
     ]
    }
   ],
   "source": [
    "sample = embedded_chunks.take(1)\n",
    "print (\"embedding size:\", len(sample[0][\"embeddings\"]))\n",
    "print (sample[0][\"text\"])"
   ]
  },
  {
   "cell_type": "markdown",
   "metadata": {},
   "source": [
    "## Store vectors"
   ]
  },
  {
   "cell_type": "code",
   "execution_count": null,
   "metadata": {},
   "outputs": [],
   "source": [
    "import psycopg\n",
    "from pgvector.psycopg import register_vector\n",
    "\n",
    "embedding_model_name = \"text-embedding-3-large\"\n",
    "\n",
    "os.environ[\"MIGRATION_FP\"] = f\"../migrations/vector-{EMBEDDING_DIMENSIONS[embedding_model_name]}.sql\"\n",
    "os.environ[\"SQL_DUMP_FP\"] = f\"{EFS_DIR}/sql_dumps/{embedding_model_name.split('/')[-1]}.sql\""
   ]
  },
  {
   "cell_type": "code",
   "execution_count": null,
   "metadata": {},
   "outputs": [
    {
     "name": "stderr",
     "output_type": "stream",
     "text": [
      "psql: error: connection to server at \"localhost\" (127.0.0.1), port 5432 failed: Connection refused\n",
      "\tIs the server running on that host and accepting TCP/IP connections?\n"
     ]
    },
    {
     "name": "stdout",
     "output_type": "stream",
     "text": [
      "../migrations/vector-3072.sql\n"
     ]
    },
    {
     "name": "stderr",
     "output_type": "stream",
     "text": [
      "could not change directory to \"/home/ray/default/anyscale-ragbot/notebooks\": Permission denied\n",
      "psql: error: connection to server on socket \"/var/run/postgresql/.s.PGSQL.5432\" failed: No such file or directory\n",
      "\tIs the server running locally and accepting connections on that socket?\n"
     ]
    },
    {
     "name": "stdout",
     "output_type": "stream",
     "text": [
      "/mnt/shared_storage/emmy/sql_dumps/text-embedding-3-large.sql\n"
     ]
    }
   ],
   "source": [
    "%%bash\n",
    "# Set up\n",
    "psql \"$DB_CONNECTION_STRING\" -c \"DROP TABLE IF EXISTS document;\"\n",
    "echo $MIGRATION_FP\n",
    "sudo -u postgres psql -f $MIGRATION_FP\n",
    "echo $SQL_DUMP_FP"
   ]
  },
  {
   "cell_type": "code",
   "execution_count": null,
   "metadata": {},
   "outputs": [],
   "source": [
    "%%bash\n",
    "# Drop the existing `document` table and create a new one with the schema to store embeddings. \n",
    "psql \"$DB_CONNECTION_STRING\" -c \"DROP TABLE IF EXISTS document;\"  # drop\n",
    "sudo -u postgres psql -f $MIGRATION_FP  # create\n",
    "psql \"$DB_CONNECTION_STRING\" -c \"SELECT count(*) FROM document;\"  # num rows\n",
    "\n",
    "# DROP TABLE\n",
    "# CREATE TABLE\n",
    "#  count \n",
    "# -------\n",
    "#      0\n",
    "# (1 row)"
   ]
  },
  {
   "cell_type": "code",
   "execution_count": null,
   "metadata": {},
   "outputs": [],
   "source": [
    "class StoreResults:\n",
    "    def __call__(self, batch):\n",
    "        with psycopg.connect(os.environ[\"DB_CONNECTION_STRING\"]) as conn:\n",
    "            register_vector(conn)\n",
    "            with conn.cursor() as cur:\n",
    "                for text, source, embedding in zip(batch[\"text\"], batch[\"source\"], batch[\"embeddings\"]):\n",
    "                    cur.execute(\"INSERT INTO document (text, source, embedding) VALUES (%s, %s, %s)\", (text, source, embedding,),)\n",
    "        return {}"
   ]
  },
  {
   "cell_type": "code",
   "execution_count": null,
   "metadata": {},
   "outputs": [],
   "source": [
    "# Index data\n",
    "embedded_chunks.map_batches(\n",
    "    StoreResults,\n",
    "    batch_size=128,\n",
    "    num_cpus=1,\n",
    "    compute=ActorPoolStrategy(size=6),\n",
    ").materialize()\n",
    "\n",
    "# Verify whether the embedding was stored successfully in Postgres or not.\n",
    "# sudo -u postgres psql\n",
    "# SELECT * FROM document LIMIT 10;"
   ]
  },
  {
   "cell_type": "code",
   "execution_count": null,
   "metadata": {},
   "outputs": [],
   "source": [
    "%%bash\n",
    "# Save index\n",
    "rm -rf $SQL_DUMP_FP\n",
    "mkdir -p $(dirname \"$SQL_DUMP_FP\") && touch $SQL_DUMP_FP\n",
    "sudo -u postgres pg_dump -c > $SQL_DUMP_FP  # save"
   ]
  }
 ],
 "metadata": {
  "kernelspec": {
   "display_name": "base",
   "language": "python",
   "name": "python3"
  },
  "language_info": {
   "codemirror_mode": {
    "name": "ipython",
    "version": 3
   },
   "file_extension": ".py",
   "mimetype": "text/x-python",
   "name": "python",
   "nbconvert_exporter": "python",
   "pygments_lexer": "ipython3",
   "version": "3.12.2"
  }
 },
 "nbformat": 4,
 "nbformat_minor": 2
}
